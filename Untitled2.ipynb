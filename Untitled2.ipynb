{
 "cells": [
  {
   "cell_type": "code",
   "execution_count": 1,
   "id": "5f6ab142",
   "metadata": {},
   "outputs": [
    {
     "name": "stdout",
     "output_type": "stream",
     "text": [
      "A: B\n",
      "B: A, C\n",
      "C: B, D\n",
      "D: C\n"
     ]
    }
   ],
   "source": [
    "class Vertex:\n",
    "    def __init__(self, key):\n",
    "        self.key = key\n",
    "        self.neighbors = []\n",
    "\n",
    "    def add_neighbor(self, neighbor):\n",
    "        self.neighbors.append(neighbor)\n",
    "\n",
    "class GraphClassBased:\n",
    "    def __init__(self):\n",
    "        self.vertices = {}\n",
    "\n",
    "    def add_vertex(self, key):\n",
    "        self.vertices[key] = Vertex(key)\n",
    "\n",
    "    def add_edge(self, u, v):\n",
    "        if u not in self.vertices:\n",
    "            self.add_vertex(u)\n",
    "        if v not in self.vertices:\n",
    "            self.add_vertex(v)\n",
    "        self.vertices[u].add_neighbor(v)\n",
    "        self.vertices[v].add_neighbor(u)\n",
    "\n",
    "    def display(self):\n",
    "        for vertex_key, vertex in self.vertices.items():\n",
    "            neighbors = ', '.join(vertex.neighbors)\n",
    "            print(f\"{vertex_key}: {neighbors}\")\n",
    "\n",
    "# Usage\n",
    "graph = GraphClassBased()\n",
    "graph.add_edge('A', 'B')\n",
    "graph.add_edge('B', 'C')\n",
    "graph.add_edge('C', 'D')\n",
    "graph.display()\n",
    "\n"
   ]
  },
  {
   "cell_type": "code",
   "execution_count": 2,
   "id": "dd4b7d98",
   "metadata": {},
   "outputs": [
    {
     "name": "stdout",
     "output_type": "stream",
     "text": [
      "A: ['B']\n",
      "B: ['A', 'C']\n",
      "C: ['B', 'D']\n",
      "D: ['C']\n"
     ]
    }
   ],
   "source": [
    "class GraphAdjacencyList:\n",
    "    def __init__(self):\n",
    "        self.graph = {}\n",
    "\n",
    "    def add_edge(self, u, v):\n",
    "        if u not in self.graph:\n",
    "            self.graph[u] = []\n",
    "        if v not in self.graph:\n",
    "            self.graph[v] = []\n",
    "        self.graph[u].append(v)\n",
    "        self.graph[v].append(u)\n",
    "\n",
    "    def display(self):\n",
    "        for vertex, neighbors in self.graph.items():\n",
    "            print(f\"{vertex}: {neighbors}\")\n",
    "\n",
    "# Usage\n",
    "graph = GraphAdjacencyList()\n",
    "graph.add_edge('A', 'B')\n",
    "graph.add_edge('B', 'C')\n",
    "graph.add_edge('C', 'D')\n",
    "graph.display()\n"
   ]
  },
  {
   "cell_type": "code",
   "execution_count": 3,
   "id": "a34e9e93",
   "metadata": {},
   "outputs": [
    {
     "name": "stdout",
     "output_type": "stream",
     "text": [
      "[0, 1, 0, 0]\n",
      "[1, 0, 1, 0]\n",
      "[0, 1, 0, 1]\n",
      "[0, 0, 1, 0]\n"
     ]
    }
   ],
   "source": [
    "class GraphAdjacencyMatrix:\n",
    "    def __init__(self, num_vertices):\n",
    "        self.num_vertices = num_vertices\n",
    "        self.matrix = [[0] * num_vertices for _ in range(num_vertices)]\n",
    "\n",
    "    def add_edge(self, i, j):\n",
    "        self.matrix[i][j] = 1\n",
    "        self.matrix[j][i] = 1\n",
    "\n",
    "    def display(self):\n",
    "        for row in self.matrix:\n",
    "            print(row)\n",
    "\n",
    "# Usage\n",
    "graph = GraphAdjacencyMatrix(4)\n",
    "graph.add_edge(0, 1)\n",
    "graph.add_edge(1, 2)\n",
    "graph.add_edge(2, 3)\n",
    "graph.display()\n"
   ]
  },
  {
   "cell_type": "code",
   "execution_count": null,
   "id": "65838ac2",
   "metadata": {},
   "outputs": [],
   "source": []
  }
 ],
 "metadata": {
  "kernelspec": {
   "display_name": "Python 3 (ipykernel)",
   "language": "python",
   "name": "python3"
  },
  "language_info": {
   "codemirror_mode": {
    "name": "ipython",
    "version": 3
   },
   "file_extension": ".py",
   "mimetype": "text/x-python",
   "name": "python",
   "nbconvert_exporter": "python",
   "pygments_lexer": "ipython3",
   "version": "3.9.13"
  }
 },
 "nbformat": 4,
 "nbformat_minor": 5
}
